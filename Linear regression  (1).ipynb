{
 "cells": [
  {
   "cell_type": "markdown",
   "id": "7403dfba",
   "metadata": {},
   "source": [
    "## Libraries"
   ]
  },
  {
   "cell_type": "code",
   "execution_count": 46,
   "id": "121b195e",
   "metadata": {},
   "outputs": [],
   "source": [
    "import sklearn\n",
    "import numpy as np\n",
    "import pandas as pd\n",
    "from numpy import asarray\n",
    "import matplotlib.pyplot as plt\n",
    "from sklearn.linear_model import Lasso\n",
    "from sklearn.linear_model import Ridge\n",
    "from sklearn.datasets import make_regression\n",
    "from sklearn.metrics import mean_squared_error\n",
    "from sklearn.preprocessing import StandardScaler\n",
    "from sklearn.linear_model import LinearRegression\n",
    "from sklearn.preprocessing import PolynomialFeatures\n",
    "from sklearn.model_selection import train_test_split"
   ]
  },
  {
   "cell_type": "markdown",
   "id": "caa308ee",
   "metadata": {},
   "source": [
    "## Dataset "
   ]
  },
  {
   "cell_type": "code",
   "execution_count": 47,
   "id": "b4d24bf1",
   "metadata": {},
   "outputs": [
    {
     "data": {
      "text/html": [
       "<div>\n",
       "<style scoped>\n",
       "    .dataframe tbody tr th:only-of-type {\n",
       "        vertical-align: middle;\n",
       "    }\n",
       "\n",
       "    .dataframe tbody tr th {\n",
       "        vertical-align: top;\n",
       "    }\n",
       "\n",
       "    .dataframe thead th {\n",
       "        text-align: right;\n",
       "    }\n",
       "</style>\n",
       "<table border=\"1\" class=\"dataframe\">\n",
       "  <thead>\n",
       "    <tr style=\"text-align: right;\">\n",
       "      <th></th>\n",
       "      <th>x1</th>\n",
       "      <th>x2</th>\n",
       "      <th>x3</th>\n",
       "      <th>y_label</th>\n",
       "    </tr>\n",
       "  </thead>\n",
       "  <tbody>\n",
       "    <tr>\n",
       "      <th>0</th>\n",
       "      <td>-100.838182</td>\n",
       "      <td>100.000000</td>\n",
       "      <td>0.000000</td>\n",
       "      <td>-6.908485e+06</td>\n",
       "    </tr>\n",
       "    <tr>\n",
       "      <th>1</th>\n",
       "      <td>-98.826004</td>\n",
       "      <td>101.202405</td>\n",
       "      <td>0.901804</td>\n",
       "      <td>-7.167624e+06</td>\n",
       "    </tr>\n",
       "    <tr>\n",
       "      <th>2</th>\n",
       "      <td>-98.627987</td>\n",
       "      <td>102.404810</td>\n",
       "      <td>1.803607</td>\n",
       "      <td>-7.429470e+06</td>\n",
       "    </tr>\n",
       "    <tr>\n",
       "      <th>3</th>\n",
       "      <td>-96.960173</td>\n",
       "      <td>103.607214</td>\n",
       "      <td>2.705411</td>\n",
       "      <td>-7.699765e+06</td>\n",
       "    </tr>\n",
       "    <tr>\n",
       "      <th>4</th>\n",
       "      <td>-97.190325</td>\n",
       "      <td>104.809619</td>\n",
       "      <td>3.607214</td>\n",
       "      <td>-7.972486e+06</td>\n",
       "    </tr>\n",
       "    <tr>\n",
       "      <th>...</th>\n",
       "      <td>...</td>\n",
       "      <td>...</td>\n",
       "      <td>...</td>\n",
       "      <td>...</td>\n",
       "    </tr>\n",
       "    <tr>\n",
       "      <th>495</th>\n",
       "      <td>294.786321</td>\n",
       "      <td>695.190381</td>\n",
       "      <td>446.392786</td>\n",
       "      <td>1.206979e+09</td>\n",
       "    </tr>\n",
       "    <tr>\n",
       "      <th>496</th>\n",
       "      <td>296.056099</td>\n",
       "      <td>696.392786</td>\n",
       "      <td>447.294589</td>\n",
       "      <td>1.216369e+09</td>\n",
       "    </tr>\n",
       "    <tr>\n",
       "      <th>497</th>\n",
       "      <td>297.526847</td>\n",
       "      <td>697.595190</td>\n",
       "      <td>448.196393</td>\n",
       "      <td>1.225805e+09</td>\n",
       "    </tr>\n",
       "    <tr>\n",
       "      <th>498</th>\n",
       "      <td>300.037521</td>\n",
       "      <td>698.797595</td>\n",
       "      <td>449.098196</td>\n",
       "      <td>1.235292e+09</td>\n",
       "    </tr>\n",
       "    <tr>\n",
       "      <th>499</th>\n",
       "      <td>299.092965</td>\n",
       "      <td>700.000000</td>\n",
       "      <td>450.000000</td>\n",
       "      <td>1.244805e+09</td>\n",
       "    </tr>\n",
       "  </tbody>\n",
       "</table>\n",
       "<p>500 rows × 4 columns</p>\n",
       "</div>"
      ],
      "text/plain": [
       "             x1          x2          x3       y_label\n",
       "0   -100.838182  100.000000    0.000000 -6.908485e+06\n",
       "1    -98.826004  101.202405    0.901804 -7.167624e+06\n",
       "2    -98.627987  102.404810    1.803607 -7.429470e+06\n",
       "3    -96.960173  103.607214    2.705411 -7.699765e+06\n",
       "4    -97.190325  104.809619    3.607214 -7.972486e+06\n",
       "..          ...         ...         ...           ...\n",
       "495  294.786321  695.190381  446.392786  1.206979e+09\n",
       "496  296.056099  696.392786  447.294589  1.216369e+09\n",
       "497  297.526847  697.595190  448.196393  1.225805e+09\n",
       "498  300.037521  698.797595  449.098196  1.235292e+09\n",
       "499  299.092965  700.000000  450.000000  1.244805e+09\n",
       "\n",
       "[500 rows x 4 columns]"
      ]
     },
     "execution_count": 47,
     "metadata": {},
     "output_type": "execute_result"
    }
   ],
   "source": [
    "dataset=pd.read_csv('dataset_q2_q4.csv')\n",
    "dataset"
   ]
  },
  {
   "cell_type": "code",
   "execution_count": 48,
   "id": "9b741cbe",
   "metadata": {},
   "outputs": [],
   "source": [
    "X=dataset.drop('y_label', axis=1)\n",
    "Y=dataset['y_label']"
   ]
  },
  {
   "cell_type": "code",
   "execution_count": 49,
   "id": "f0f2daf1",
   "metadata": {},
   "outputs": [],
   "source": [
    "X=np.array(X)\n",
    "Y=np.array(Y)"
   ]
  },
  {
   "cell_type": "markdown",
   "id": "c236e269",
   "metadata": {},
   "source": [
    "## Split the dataset into 70% train data and 30% test data"
   ]
  },
  {
   "cell_type": "code",
   "execution_count": 51,
   "id": "f0d31525",
   "metadata": {},
   "outputs": [],
   "source": [
    "X_train,X_test,Y_train,Y_test=train_test_split(X,Y,test_size=.4)"
   ]
  },
  {
   "cell_type": "code",
   "execution_count": 52,
   "id": "de6339f4",
   "metadata": {},
   "outputs": [
    {
     "name": "stdout",
     "output_type": "stream",
     "text": [
      "(300, 3) (200, 3) (300,) (200,)\n"
     ]
    }
   ],
   "source": [
    "# Printing the size of datasets\n",
    "print(X_train.shape, X_test.shape, Y_train.shape, Y_test.shape)"
   ]
  },
  {
   "cell_type": "markdown",
   "id": "ea37c5bf",
   "metadata": {},
   "source": [
    "# implement linear regression using gradient decent based The loss function"
   ]
  },
  {
   "cell_type": "markdown",
   "id": "7cc88fa6",
   "metadata": {},
   "source": [
    "$h(x)_ \\theta= 3\\theta_1*x^{2}_1+ \\theta_2*x^{3}_2 -\\theta_3*x^{3}_2 + \\theta_2*\\theta_3*x^{3}_3+\\theta_0 $"
   ]
  },
  {
   "cell_type": "code",
   "execution_count": 72,
   "id": "2b5aae36",
   "metadata": {},
   "outputs": [
    {
     "name": "stdout",
     "output_type": "stream",
     "text": [
      "2.6842887311855576e+16\n"
     ]
    },
    {
     "data": {
      "text/plain": [
       "(392.4662921136086, 2.2183700943839115, 1.8111512121879147, 1.5959187862358302)"
      ]
     },
     "execution_count": 72,
     "metadata": {},
     "output_type": "execute_result"
    },
    {
     "data": {
      "image/png": "[encoded data removed]",
      "text/plain": [
       "<Figure size 432x288 with 1 Axes>"
      ]
     },
     "metadata": {
      "needs_background": "light"
     },
     "output_type": "display_data"
    }
   ],
   "source": [
    "def fit_line(X,Y,lr=0.02,epechs=4):\n",
    "    \n",
    "    # values of theta \n",
    "    theta0=0.\n",
    "    t = np.zeros(X.shape[1])\n",
    "    t1=0.\n",
    "    t2=0.\n",
    "    t3=0.\n",
    "    # prepare of Featuers\n",
    "    X1=X[:,0]\n",
    "    X2=X[:,1] \n",
    "    X3=X[:,2]\n",
    "\n",
    "    no_train=X.size\n",
    "    losses=[]\n",
    "    \n",
    "    # preparing each term of hypothises\n",
    "    term1=3*t1*X1**2\n",
    "    term2=t2*X2**3\n",
    "    term3=-t3*X2**3\n",
    "    term4=t2*t3*X3**3\n",
    "    \n",
    "    for _ in range(epechs):\n",
    "        \n",
    "        \n",
    "        #Hypothises\n",
    "        y_hat=term1+term2+term3+term4+theta0\n",
    "        \n",
    "        #preparing Cost Function (loss)\n",
    "        loss=np.sum((y_hat-Y)**2)/(no_train*2)\n",
    "        losses.append(loss)\n",
    "            \n",
    "        #preparing partial derivation for each theta\n",
    "        G1=3*X1**2 \n",
    "        G2=X2**3+t3*X3**3\n",
    "        G3=X2**3+t2**3\n",
    "            \n",
    "        #preparing Gradient \n",
    "        theta0_grad=np.sum(y_hat-Y)*1 #no_train\n",
    "        theta1_grad=np.matmul((G1),(y_hat-Y))/no_train\n",
    "        theta2_grad=np.matmul((G2),(y_hat-Y))/no_train\n",
    "        theta3_grad=np.matmul((G3),(y_hat-Y))/no_train\n",
    "            \n",
    "        ## new values for theta\n",
    "        theta0-=lr*theta0_grad \n",
    "        t1-=lr*theta1_grad\n",
    "        t2-=lr*theta2_grad \n",
    "        t3-=lr*theta3_grad \n",
    "        \n",
    "    print(loss)    \n",
    "    plt.plot(list(range(epechs)),losses)\n",
    "    return theta0,t1,t2,t3     \n",
    "        \n",
    "        \n",
    "fit_line(X_train,Y_train,lr=0.0000000000021,epechs=3000)"
   ]
  }
 ],
 "metadata": {
  "kernelspec": {
   "display_name": "Python 3",
   "language": "python",
   "name": "python3"
  },
  "language_info": {
   "codemirror_mode": {
    "name": "ipython",
    "version": 3
   },
   "file_extension": ".py",
   "mimetype": "text/x-python",
   "name": "python",
   "nbconvert_exporter": "python",
   "pygments_lexer": "ipython3",
   "version": "3.8.8"
  }
 },
 "nbformat": 4,
 "nbformat_minor": 5
}
